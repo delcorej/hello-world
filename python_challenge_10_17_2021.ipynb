{
  "nbformat": 4,
  "nbformat_minor": 0,
  "metadata": {
    "colab": {
      "name": "python challenge 10/17/2021.ipynb",
      "provenance": [],
      "authorship_tag": "ABX9TyMnbPHB1t8wKGPABSFyyxYU",
      "include_colab_link": true
    },
    "kernelspec": {
      "name": "python3",
      "display_name": "Python 3"
    },
    "language_info": {
      "name": "python"
    }
  },
  "cells": [
    {
      "cell_type": "markdown",
      "metadata": {
        "id": "view-in-github",
        "colab_type": "text"
      },
      "source": [
        "<a href=\"https://colab.research.google.com/github/delcorej/hello-world/blob/main/python_challenge_10_17_2021.ipynb\" target=\"_parent\"><img src=\"https://colab.research.google.com/assets/colab-badge.svg\" alt=\"Open In Colab\"/></a>"
      ]
    },
    {
      "cell_type": "code",
      "metadata": {
        "colab": {
          "base_uri": "https://localhost:8080/"
        },
        "id": "1O86-Q5P292S",
        "outputId": "236e56d1-de99-48c3-c7da-cc0313f225b3"
      },
      "source": [
        "print('Welcome to the tip calculator! Hope you had a great meal!')\n",
        "\n",
        "meal_cost = (input('What is the total bill? : '))\n",
        "\n",
        "Question = input(\"Would you like to tip twenty percent?\")\n",
        " \n",
        "if Question == (\"yes\"):\n",
        "\tprint (\"Awesome!\")\n",
        "elif Question == (\"no\"):\n",
        "\tprint (\"Typically servers should be tipped twenty percent\")\n",
        "else:\n",
        "   print(\"Please answer yes or no.\")"
      ],
      "execution_count": 12,
      "outputs": [
        {
          "output_type": "stream",
          "name": "stdout",
          "text": [
            "Welcome to the tip calculator! Hope you had a great meal!\n",
            "What is the total bill? : 60.50\n",
            "Would you like to tip twenty percent?yes\n",
            "Awesome!\n"
          ]
        }
      ]
    },
    {
      "cell_type": "code",
      "metadata": {
        "id": "FewFjlrstnUj"
      },
      "source": [
        "meal = 60.50\n",
        "tax = 6.75 / 100\n",
        "tip = 20 / 100\n",
        "\n",
        "meal_with_tax = (meal * tax) + meal\n",
        "meal_with_tip = (meal * tip) + meal_with_tax\n",
        "total = round(meal_with_tip)\n"
      ],
      "execution_count": 20,
      "outputs": []
    },
    {
      "cell_type": "code",
      "metadata": {
        "colab": {
          "base_uri": "https://localhost:8080/"
        },
        "id": "T_xg5Jjz7WVQ",
        "outputId": "d9fa67f6-c4db-45a8-b9d2-856bbe820026"
      },
      "source": [
        "print(\"Your total cost with tip, tax and the cost of the meal is: $\", total)"
      ],
      "execution_count": 21,
      "outputs": [
        {
          "output_type": "stream",
          "name": "stdout",
          "text": [
            "Your total cost with tip, tax and the cost of the meal is: $ 77\n"
          ]
        }
      ]
    }
  ]
}