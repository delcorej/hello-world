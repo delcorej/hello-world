{
  "nbformat": 4,
  "nbformat_minor": 0,
  "metadata": {
    "colab": {
      "name": "Drizly Fun by Justice DelCore.ipynb",
      "provenance": [],
      "authorship_tag": "ABX9TyNtS20pEheGTVwmtF30TPlB",
      "include_colab_link": true
    },
    "kernelspec": {
      "name": "python3",
      "display_name": "Python 3"
    },
    "language_info": {
      "name": "python"
    }
  },
  "cells": [
    {
      "cell_type": "markdown",
      "metadata": {
        "id": "view-in-github",
        "colab_type": "text"
      },
      "source": [
        "<a href=\"https://colab.research.google.com/github/delcorej/hello-world/blob/main/Drizly_Fun_by_Justice_DelCore.ipynb\" target=\"_parent\"><img src=\"https://colab.research.google.com/assets/colab-badge.svg\" alt=\"Open In Colab\"/></a>"
      ]
    },
    {
      "cell_type": "markdown",
      "source": [
        "<b>Goal of this Notebook</b>\n",
        "\n",
        "This notebook is to predict the Gross Merchandise Value or GMV of customers based upon their first purchase order. This prediction will be done by peforming a linear regression on a customer's first orders attributes."
      ],
      "metadata": {
        "id": "ezRF6nFFMdkr"
      }
    },
    {
      "cell_type": "code",
      "execution_count": 1,
      "metadata": {
        "id": "wCz-vth1Mbel"
      },
      "outputs": [],
      "source": [
        "#first import all of the necessary libs for the exploratory data analyis portion\n",
        "import pandas as pd\n",
        "import numpy as np\n",
        "import matplotlib.pyplot as plt\n",
        "import seaborn as sns\n",
        "import datetime \n",
        "import warnings\n",
        "warnings.simplefilter('ignore') \n",
        "#this is to ignore any warnings that occur that do not interrupt the running of the cell\n",
        "%matplotlib inline \n",
        "#this is to ensure that all plots are visible once I run the cell"
      ]
    },
    {
      "cell_type": "code",
      "source": [
        "#lets mount this to my google drive\n",
        "from google.colab import drive"
      ],
      "metadata": {
        "id": "w-tZT5L-M8HE"
      },
      "execution_count": 2,
      "outputs": []
    },
    {
      "cell_type": "code",
      "source": [
        "#now lets save the different data frames that I will be working with\n",
        "order_items = pd.read_csv('store_order_items.csv.gz')\n",
        "orders = pd.read_csv('store_orders.csv.gz')\n",
        "first_orders = pd.read_csv('users_first_orders.csv.gz')"
      ],
      "metadata": {
        "id": "kWHuTQKONlYk"
      },
      "execution_count": 3,
      "outputs": []
    },
    {
      "cell_type": "markdown",
      "source": [
        "# Data Preprocessing"
      ],
      "metadata": {
        "id": "rEErlxkXn1sv"
      }
    },
    {
      "cell_type": "code",
      "source": [
        "#lets look at the different components of each dataframe\n",
        "order_items.info()\n",
        "orders.info()\n",
        "first_orders.info()"
      ],
      "metadata": {
        "colab": {
          "base_uri": "https://localhost:8080/"
        },
        "id": "kmafcOyOQkOr",
        "outputId": "d42ebde3-01d3-4034-f72f-900ba8361ae3"
      },
      "execution_count": 4,
      "outputs": [
        {
          "output_type": "stream",
          "name": "stdout",
          "text": [
            "<class 'pandas.core.frame.DataFrame'>\n",
            "RangeIndex: 1616900 entries, 0 to 1616899\n",
            "Data columns (total 6 columns):\n",
            " #   Column              Non-Null Count    Dtype  \n",
            "---  ------              --------------    -----  \n",
            " 0   store_id            1616900 non-null  object \n",
            " 1   store_order_id      1616900 non-null  object \n",
            " 2   master_item_id      1612863 non-null  float64\n",
            " 3   top_level_category  1612640 non-null  object \n",
            " 4   unit_price          1616900 non-null  float64\n",
            " 5   quantity            1616900 non-null  int64  \n",
            "dtypes: float64(2), int64(1), object(3)\n",
            "memory usage: 74.0+ MB\n",
            "<class 'pandas.core.frame.DataFrame'>\n",
            "RangeIndex: 561167 entries, 0 to 561166\n",
            "Data columns (total 4 columns):\n",
            " #   Column          Non-Null Count   Dtype \n",
            "---  ------          --------------   ----- \n",
            " 0   store_id        561167 non-null  object\n",
            " 1   user_id         561167 non-null  object\n",
            " 2   order_id        561167 non-null  object\n",
            " 3   store_order_id  561167 non-null  object\n",
            "dtypes: object(4)\n",
            "memory usage: 17.1+ MB\n",
            "<class 'pandas.core.frame.DataFrame'>\n",
            "RangeIndex: 206325 entries, 0 to 206324\n",
            "Data columns (total 6 columns):\n",
            " #   Column             Non-Null Count   Dtype  \n",
            "---  ------             --------------   -----  \n",
            " 0   user_id            206325 non-null  object \n",
            " 1   dma_name           206325 non-null  object \n",
            " 2   is_gift            206257 non-null  object \n",
            " 3   is_corporate_user  206325 non-null  bool   \n",
            " 4   device             206325 non-null  object \n",
            " 5   gmv                206325 non-null  float64\n",
            "dtypes: bool(1), float64(1), object(4)\n",
            "memory usage: 8.1+ MB\n"
          ]
        }
      ]
    },
    {
      "cell_type": "code",
      "source": [
        "#lets look at the different components of each dataframe\n",
        "order_items.isnull().sum()"
      ],
      "metadata": {
        "colab": {
          "base_uri": "https://localhost:8080/"
        },
        "id": "QdF6PQFnQrFL",
        "outputId": "7c01206a-4efe-43c8-ffc5-29ccb4217972"
      },
      "execution_count": 5,
      "outputs": [
        {
          "output_type": "execute_result",
          "data": {
            "text/plain": [
              "store_id                 0\n",
              "store_order_id           0\n",
              "master_item_id        4037\n",
              "top_level_category    4260\n",
              "unit_price               0\n",
              "quantity                 0\n",
              "dtype: int64"
            ]
          },
          "metadata": {},
          "execution_count": 5
        }
      ]
    },
    {
      "cell_type": "code",
      "source": [
        "#null values for each column\n",
        "orders.isnull().sum()\n"
      ],
      "metadata": {
        "colab": {
          "base_uri": "https://localhost:8080/"
        },
        "id": "bvmvPUwSSE9E",
        "outputId": "b781bac1-8cde-423e-86ca-7b8a9cb7999b"
      },
      "execution_count": 6,
      "outputs": [
        {
          "output_type": "execute_result",
          "data": {
            "text/plain": [
              "store_id          0\n",
              "user_id           0\n",
              "order_id          0\n",
              "store_order_id    0\n",
              "dtype: int64"
            ]
          },
          "metadata": {},
          "execution_count": 6
        }
      ]
    },
    {
      "cell_type": "code",
      "source": [
        "#null values for each column\n",
        "first_orders.isnull().sum()"
      ],
      "metadata": {
        "colab": {
          "base_uri": "https://localhost:8080/"
        },
        "id": "VayDVgl4SKlu",
        "outputId": "82664d39-ca4f-4b20-de23-eb88bc589eb4"
      },
      "execution_count": 7,
      "outputs": [
        {
          "output_type": "execute_result",
          "data": {
            "text/plain": [
              "user_id               0\n",
              "dma_name              0\n",
              "is_gift              68\n",
              "is_corporate_user     0\n",
              "device                0\n",
              "gmv                   0\n",
              "dtype: int64"
            ]
          },
          "metadata": {},
          "execution_count": 7
        }
      ]
    },
    {
      "cell_type": "markdown",
      "source": [
        "##Null Values##\n",
        "\n",
        "So there are null values within these datasets which is really important to point out because null values have an impact on the model building process. Having too many null values could throw off the fit of a model by quite a lot.It is important to know what the zeroes me now for this notebook the zero values occur in whether or not something is a gift, top item category as well as master item id. One thing I can say right off the bat is since there are only 68 values out of hundreds of thousands missing from the gift columns I would say its okay to ignore. Now the other two columns are missing a couple thousand values in a typical notebook I might replace them with the mean or the median however, for this project I am going to choose to ignore them. The reason for this being the goal of this notebook is not whether I know the impact of missing values but rather if I can build a sucessful multiple linear regression model\n"
      ],
      "metadata": {
        "id": "t7LzIgn1oGjN"
      }
    },
    {
      "cell_type": "code",
      "source": [
        "from pandas.core.reshape.merge import merge_ordered\n",
        "#Now we have to merge all of the dataframes together the first set I will merge together is the store orders and the store order items as they have common columns\n",
        "\n",
        "merge_one = pd.merge(orders, order_items)\n",
        "merge_one.shape"
      ],
      "metadata": {
        "colab": {
          "base_uri": "https://localhost:8080/"
        },
        "id": "DAzfS3E0aR2w",
        "outputId": "70f763bf-93f1-4107-bb23-f2c7b693035b"
      },
      "execution_count": 8,
      "outputs": [
        {
          "output_type": "execute_result",
          "data": {
            "text/plain": [
              "(1616900, 8)"
            ]
          },
          "metadata": {},
          "execution_count": 8
        }
      ]
    },
    {
      "cell_type": "markdown",
      "source": [
        "The merging of the dataframes together is to build a successful training dataset that will create a model that predicts gmv's with a high accuracy"
      ],
      "metadata": {
        "id": "4erteu2IppMT"
      }
    },
    {
      "cell_type": "code",
      "source": [
        "#I want to just double check that all column values are within my merge\n",
        "merge_one.head()"
      ],
      "metadata": {
        "colab": {
          "base_uri": "https://localhost:8080/",
          "height": 270
        },
        "id": "j2hMKvlubV6U",
        "outputId": "ba44155c-ab53-42e7-ffac-4af34514c149"
      },
      "execution_count": 9,
      "outputs": [
        {
          "output_type": "execute_result",
          "data": {
            "text/plain": [
              "                           store_id                           user_id  \\\n",
              "0  31928e8b164b9bc3c0ff06f6babe09a8  06e42070c778a50a1485a7f6cd480961   \n",
              "1  31928e8b164b9bc3c0ff06f6babe09a8  06e42070c778a50a1485a7f6cd480961   \n",
              "2  67aecfcf3981614f6e5a89dcd19c3b03  0cf662033efeff66a17e03797960b8e3   \n",
              "3  67aecfcf3981614f6e5a89dcd19c3b03  0cf662033efeff66a17e03797960b8e3   \n",
              "4  9f87b8cacdd1cc6bbe4f09dff920a125  c56e808028271e41b15ca6274c260a04   \n",
              "\n",
              "                           order_id                    store_order_id  \\\n",
              "0  8410f4008654f7a88f209ed59b0dd94f  ff5172de1c9e840af71d8bce0ff6834a   \n",
              "1  8410f4008654f7a88f209ed59b0dd94f  ff5172de1c9e840af71d8bce0ff6834a   \n",
              "2  81f5bd06ca42eba4876880b06a2d9d51  8e5e14442db17499be390ce5bd415e05   \n",
              "3  81f5bd06ca42eba4876880b06a2d9d51  8e5e14442db17499be390ce5bd415e05   \n",
              "4  8b98b3164460bb57d295249bd9ae5632  78d77cb7d80eff8be6dea2f5263be90d   \n",
              "\n",
              "   master_item_id top_level_category  unit_price  quantity  \n",
              "0          4304.0             Liquor       19.99         1  \n",
              "1          4510.0             Liquor       21.99         1  \n",
              "2          1252.0               Wine       19.99         1  \n",
              "3          7005.0               Wine       12.85         1  \n",
              "4          2179.0               Wine       11.95         1  "
            ],
            "text/html": [
              "\n",
              "  <div id=\"df-b20f51e9-b7dc-4b6e-b477-82df894c64a6\">\n",
              "    <div class=\"colab-df-container\">\n",
              "      <div>\n",
              "<style scoped>\n",
              "    .dataframe tbody tr th:only-of-type {\n",
              "        vertical-align: middle;\n",
              "    }\n",
              "\n",
              "    .dataframe tbody tr th {\n",
              "        vertical-align: top;\n",
              "    }\n",
              "\n",
              "    .dataframe thead th {\n",
              "        text-align: right;\n",
              "    }\n",
              "</style>\n",
              "<table border=\"1\" class=\"dataframe\">\n",
              "  <thead>\n",
              "    <tr style=\"text-align: right;\">\n",
              "      <th></th>\n",
              "      <th>store_id</th>\n",
              "      <th>user_id</th>\n",
              "      <th>order_id</th>\n",
              "      <th>store_order_id</th>\n",
              "      <th>master_item_id</th>\n",
              "      <th>top_level_category</th>\n",
              "      <th>unit_price</th>\n",
              "      <th>quantity</th>\n",
              "    </tr>\n",
              "  </thead>\n",
              "  <tbody>\n",
              "    <tr>\n",
              "      <th>0</th>\n",
              "      <td>31928e8b164b9bc3c0ff06f6babe09a8</td>\n",
              "      <td>06e42070c778a50a1485a7f6cd480961</td>\n",
              "      <td>8410f4008654f7a88f209ed59b0dd94f</td>\n",
              "      <td>ff5172de1c9e840af71d8bce0ff6834a</td>\n",
              "      <td>4304.0</td>\n",
              "      <td>Liquor</td>\n",
              "      <td>19.99</td>\n",
              "      <td>1</td>\n",
              "    </tr>\n",
              "    <tr>\n",
              "      <th>1</th>\n",
              "      <td>31928e8b164b9bc3c0ff06f6babe09a8</td>\n",
              "      <td>06e42070c778a50a1485a7f6cd480961</td>\n",
              "      <td>8410f4008654f7a88f209ed59b0dd94f</td>\n",
              "      <td>ff5172de1c9e840af71d8bce0ff6834a</td>\n",
              "      <td>4510.0</td>\n",
              "      <td>Liquor</td>\n",
              "      <td>21.99</td>\n",
              "      <td>1</td>\n",
              "    </tr>\n",
              "    <tr>\n",
              "      <th>2</th>\n",
              "      <td>67aecfcf3981614f6e5a89dcd19c3b03</td>\n",
              "      <td>0cf662033efeff66a17e03797960b8e3</td>\n",
              "      <td>81f5bd06ca42eba4876880b06a2d9d51</td>\n",
              "      <td>8e5e14442db17499be390ce5bd415e05</td>\n",
              "      <td>1252.0</td>\n",
              "      <td>Wine</td>\n",
              "      <td>19.99</td>\n",
              "      <td>1</td>\n",
              "    </tr>\n",
              "    <tr>\n",
              "      <th>3</th>\n",
              "      <td>67aecfcf3981614f6e5a89dcd19c3b03</td>\n",
              "      <td>0cf662033efeff66a17e03797960b8e3</td>\n",
              "      <td>81f5bd06ca42eba4876880b06a2d9d51</td>\n",
              "      <td>8e5e14442db17499be390ce5bd415e05</td>\n",
              "      <td>7005.0</td>\n",
              "      <td>Wine</td>\n",
              "      <td>12.85</td>\n",
              "      <td>1</td>\n",
              "    </tr>\n",
              "    <tr>\n",
              "      <th>4</th>\n",
              "      <td>9f87b8cacdd1cc6bbe4f09dff920a125</td>\n",
              "      <td>c56e808028271e41b15ca6274c260a04</td>\n",
              "      <td>8b98b3164460bb57d295249bd9ae5632</td>\n",
              "      <td>78d77cb7d80eff8be6dea2f5263be90d</td>\n",
              "      <td>2179.0</td>\n",
              "      <td>Wine</td>\n",
              "      <td>11.95</td>\n",
              "      <td>1</td>\n",
              "    </tr>\n",
              "  </tbody>\n",
              "</table>\n",
              "</div>\n",
              "      <button class=\"colab-df-convert\" onclick=\"convertToInteractive('df-b20f51e9-b7dc-4b6e-b477-82df894c64a6')\"\n",
              "              title=\"Convert this dataframe to an interactive table.\"\n",
              "              style=\"display:none;\">\n",
              "        \n",
              "  <svg xmlns=\"http://www.w3.org/2000/svg\" height=\"24px\"viewBox=\"0 0 24 24\"\n",
              "       width=\"24px\">\n",
              "    <path d=\"M0 0h24v24H0V0z\" fill=\"none\"/>\n",
              "    <path d=\"M18.56 5.44l.94 2.06.94-2.06 2.06-.94-2.06-.94-.94-2.06-.94 2.06-2.06.94zm-11 1L8.5 8.5l.94-2.06 2.06-.94-2.06-.94L8.5 2.5l-.94 2.06-2.06.94zm10 10l.94 2.06.94-2.06 2.06-.94-2.06-.94-.94-2.06-.94 2.06-2.06.94z\"/><path d=\"M17.41 7.96l-1.37-1.37c-.4-.4-.92-.59-1.43-.59-.52 0-1.04.2-1.43.59L10.3 9.45l-7.72 7.72c-.78.78-.78 2.05 0 2.83L4 21.41c.39.39.9.59 1.41.59.51 0 1.02-.2 1.41-.59l7.78-7.78 2.81-2.81c.8-.78.8-2.07 0-2.86zM5.41 20L4 18.59l7.72-7.72 1.47 1.35L5.41 20z\"/>\n",
              "  </svg>\n",
              "      </button>\n",
              "      \n",
              "  <style>\n",
              "    .colab-df-container {\n",
              "      display:flex;\n",
              "      flex-wrap:wrap;\n",
              "      gap: 12px;\n",
              "    }\n",
              "\n",
              "    .colab-df-convert {\n",
              "      background-color: #E8F0FE;\n",
              "      border: none;\n",
              "      border-radius: 50%;\n",
              "      cursor: pointer;\n",
              "      display: none;\n",
              "      fill: #1967D2;\n",
              "      height: 32px;\n",
              "      padding: 0 0 0 0;\n",
              "      width: 32px;\n",
              "    }\n",
              "\n",
              "    .colab-df-convert:hover {\n",
              "      background-color: #E2EBFA;\n",
              "      box-shadow: 0px 1px 2px rgba(60, 64, 67, 0.3), 0px 1px 3px 1px rgba(60, 64, 67, 0.15);\n",
              "      fill: #174EA6;\n",
              "    }\n",
              "\n",
              "    [theme=dark] .colab-df-convert {\n",
              "      background-color: #3B4455;\n",
              "      fill: #D2E3FC;\n",
              "    }\n",
              "\n",
              "    [theme=dark] .colab-df-convert:hover {\n",
              "      background-color: #434B5C;\n",
              "      box-shadow: 0px 1px 3px 1px rgba(0, 0, 0, 0.15);\n",
              "      filter: drop-shadow(0px 1px 2px rgba(0, 0, 0, 0.3));\n",
              "      fill: #FFFFFF;\n",
              "    }\n",
              "  </style>\n",
              "\n",
              "      <script>\n",
              "        const buttonEl =\n",
              "          document.querySelector('#df-b20f51e9-b7dc-4b6e-b477-82df894c64a6 button.colab-df-convert');\n",
              "        buttonEl.style.display =\n",
              "          google.colab.kernel.accessAllowed ? 'block' : 'none';\n",
              "\n",
              "        async function convertToInteractive(key) {\n",
              "          const element = document.querySelector('#df-b20f51e9-b7dc-4b6e-b477-82df894c64a6');\n",
              "          const dataTable =\n",
              "            await google.colab.kernel.invokeFunction('convertToInteractive',\n",
              "                                                     [key], {});\n",
              "          if (!dataTable) return;\n",
              "\n",
              "          const docLinkHtml = 'Like what you see? Visit the ' +\n",
              "            '<a target=\"_blank\" href=https://colab.research.google.com/notebooks/data_table.ipynb>data table notebook</a>'\n",
              "            + ' to learn more about interactive tables.';\n",
              "          element.innerHTML = '';\n",
              "          dataTable['output_type'] = 'display_data';\n",
              "          await google.colab.output.renderOutput(dataTable, element);\n",
              "          const docLink = document.createElement('div');\n",
              "          docLink.innerHTML = docLinkHtml;\n",
              "          element.appendChild(docLink);\n",
              "        }\n",
              "      </script>\n",
              "    </div>\n",
              "  </div>\n",
              "  "
            ]
          },
          "metadata": {},
          "execution_count": 9
        }
      ]
    },
    {
      "cell_type": "code",
      "source": [
        "#now lets add in the third dataframe so that we can then build a model off of it\n",
        "main_data = pd.merge(merge_one, first_orders)\n",
        "main_data.shape"
      ],
      "metadata": {
        "colab": {
          "base_uri": "https://localhost:8080/"
        },
        "id": "W7PIiEa_be9n",
        "outputId": "8defa5da-1332-4ba0-9cbf-548983fb3eaa"
      },
      "execution_count": 10,
      "outputs": [
        {
          "output_type": "execute_result",
          "data": {
            "text/plain": [
              "(1616900, 13)"
            ]
          },
          "metadata": {},
          "execution_count": 10
        }
      ]
    },
    {
      "cell_type": "code",
      "source": [
        "#now lets calculate the total gmv which is the gross market value for each customer\n",
        "\n",
        "main_data['total_gmv'] = main_data['unit_price'] * main_data['quantity']\n",
        "main_data.info()"
      ],
      "metadata": {
        "colab": {
          "base_uri": "https://localhost:8080/"
        },
        "id": "ANX1cTGHUsot",
        "outputId": "ed48e0fb-9b81-4461-9884-b670e7174c73"
      },
      "execution_count": 17,
      "outputs": [
        {
          "output_type": "stream",
          "name": "stdout",
          "text": [
            "<class 'pandas.core.frame.DataFrame'>\n",
            "Int64Index: 1616900 entries, 0 to 1616899\n",
            "Data columns (total 14 columns):\n",
            " #   Column              Non-Null Count    Dtype  \n",
            "---  ------              --------------    -----  \n",
            " 0   store_id            1616900 non-null  object \n",
            " 1   user_id             1616900 non-null  object \n",
            " 2   order_id            1616900 non-null  object \n",
            " 3   store_order_id      1616900 non-null  object \n",
            " 4   master_item_id      1612863 non-null  float64\n",
            " 5   top_level_category  1612640 non-null  object \n",
            " 6   unit_price          1616900 non-null  float64\n",
            " 7   quantity            1616900 non-null  int64  \n",
            " 8   dma_name            1616900 non-null  object \n",
            " 9   is_gift             1616228 non-null  object \n",
            " 10  is_corporate_user   1616900 non-null  bool   \n",
            " 11  device              1616900 non-null  object \n",
            " 12  gmv                 1616900 non-null  float64\n",
            " 13  total_gmv           1616900 non-null  float64\n",
            "dtypes: bool(1), float64(4), int64(1), object(8)\n",
            "memory usage: 238.7+ MB\n"
          ]
        }
      ]
    },
    {
      "cell_type": "code",
      "source": [
        "#time to change all our values to numeric format\n",
        "from sklearn import preprocessing\n",
        "\n",
        "data_encoder = preprocessing.LabelEncoder()\n",
        "data_encoded = main_data.apply(data_encoder.fit_transform)\n",
        "\n",
        "data_encoded.head()"
      ],
      "metadata": {
        "colab": {
          "base_uri": "https://localhost:8080/",
          "height": 250
        },
        "id": "JSmeohGzjRLt",
        "outputId": "8693049a-c95c-49c0-ebdb-624eeb06fc5f"
      },
      "execution_count": 25,
      "outputs": [
        {
          "output_type": "execute_result",
          "data": {
            "text/plain": [
              "   store_id  user_id  order_id  store_order_id  master_item_id  \\\n",
              "0       143     5520    283066          559631            1844   \n",
              "1       143     5520    283066          559631            1931   \n",
              "2       143     5520    512089          529375            1844   \n",
              "3       143     5520    512089          529375            1931   \n",
              "4       702     5520    358568          259567            4252   \n",
              "\n",
              "   top_level_category  unit_price  quantity  dma_name  is_gift  \\\n",
              "0                   2        1719         0         2        0   \n",
              "1                   2        1881         0         2        0   \n",
              "2                   2        1719         0         2        0   \n",
              "3                   2        1881         0         2        0   \n",
              "4                   2        1475         0         2        0   \n",
              "\n",
              "   is_corporate_user  device   gmv  total_gmv  \n",
              "0                  0       1  4842       1972  \n",
              "1                  0       1  4842       2160  \n",
              "2                  0       1  4842       1972  \n",
              "3                  0       1  4842       2160  \n",
              "4                  0       1  4842       1690  "
            ],
            "text/html": [
              "\n",
              "  <div id=\"df-b971bac6-5b6f-4e70-a60a-35ca5b059496\">\n",
              "    <div class=\"colab-df-container\">\n",
              "      <div>\n",
              "<style scoped>\n",
              "    .dataframe tbody tr th:only-of-type {\n",
              "        vertical-align: middle;\n",
              "    }\n",
              "\n",
              "    .dataframe tbody tr th {\n",
              "        vertical-align: top;\n",
              "    }\n",
              "\n",
              "    .dataframe thead th {\n",
              "        text-align: right;\n",
              "    }\n",
              "</style>\n",
              "<table border=\"1\" class=\"dataframe\">\n",
              "  <thead>\n",
              "    <tr style=\"text-align: right;\">\n",
              "      <th></th>\n",
              "      <th>store_id</th>\n",
              "      <th>user_id</th>\n",
              "      <th>order_id</th>\n",
              "      <th>store_order_id</th>\n",
              "      <th>master_item_id</th>\n",
              "      <th>top_level_category</th>\n",
              "      <th>unit_price</th>\n",
              "      <th>quantity</th>\n",
              "      <th>dma_name</th>\n",
              "      <th>is_gift</th>\n",
              "      <th>is_corporate_user</th>\n",
              "      <th>device</th>\n",
              "      <th>gmv</th>\n",
              "      <th>total_gmv</th>\n",
              "    </tr>\n",
              "  </thead>\n",
              "  <tbody>\n",
              "    <tr>\n",
              "      <th>0</th>\n",
              "      <td>143</td>\n",
              "      <td>5520</td>\n",
              "      <td>283066</td>\n",
              "      <td>559631</td>\n",
              "      <td>1844</td>\n",
              "      <td>2</td>\n",
              "      <td>1719</td>\n",
              "      <td>0</td>\n",
              "      <td>2</td>\n",
              "      <td>0</td>\n",
              "      <td>0</td>\n",
              "      <td>1</td>\n",
              "      <td>4842</td>\n",
              "      <td>1972</td>\n",
              "    </tr>\n",
              "    <tr>\n",
              "      <th>1</th>\n",
              "      <td>143</td>\n",
              "      <td>5520</td>\n",
              "      <td>283066</td>\n",
              "      <td>559631</td>\n",
              "      <td>1931</td>\n",
              "      <td>2</td>\n",
              "      <td>1881</td>\n",
              "      <td>0</td>\n",
              "      <td>2</td>\n",
              "      <td>0</td>\n",
              "      <td>0</td>\n",
              "      <td>1</td>\n",
              "      <td>4842</td>\n",
              "      <td>2160</td>\n",
              "    </tr>\n",
              "    <tr>\n",
              "      <th>2</th>\n",
              "      <td>143</td>\n",
              "      <td>5520</td>\n",
              "      <td>512089</td>\n",
              "      <td>529375</td>\n",
              "      <td>1844</td>\n",
              "      <td>2</td>\n",
              "      <td>1719</td>\n",
              "      <td>0</td>\n",
              "      <td>2</td>\n",
              "      <td>0</td>\n",
              "      <td>0</td>\n",
              "      <td>1</td>\n",
              "      <td>4842</td>\n",
              "      <td>1972</td>\n",
              "    </tr>\n",
              "    <tr>\n",
              "      <th>3</th>\n",
              "      <td>143</td>\n",
              "      <td>5520</td>\n",
              "      <td>512089</td>\n",
              "      <td>529375</td>\n",
              "      <td>1931</td>\n",
              "      <td>2</td>\n",
              "      <td>1881</td>\n",
              "      <td>0</td>\n",
              "      <td>2</td>\n",
              "      <td>0</td>\n",
              "      <td>0</td>\n",
              "      <td>1</td>\n",
              "      <td>4842</td>\n",
              "      <td>2160</td>\n",
              "    </tr>\n",
              "    <tr>\n",
              "      <th>4</th>\n",
              "      <td>702</td>\n",
              "      <td>5520</td>\n",
              "      <td>358568</td>\n",
              "      <td>259567</td>\n",
              "      <td>4252</td>\n",
              "      <td>2</td>\n",
              "      <td>1475</td>\n",
              "      <td>0</td>\n",
              "      <td>2</td>\n",
              "      <td>0</td>\n",
              "      <td>0</td>\n",
              "      <td>1</td>\n",
              "      <td>4842</td>\n",
              "      <td>1690</td>\n",
              "    </tr>\n",
              "  </tbody>\n",
              "</table>\n",
              "</div>\n",
              "      <button class=\"colab-df-convert\" onclick=\"convertToInteractive('df-b971bac6-5b6f-4e70-a60a-35ca5b059496')\"\n",
              "              title=\"Convert this dataframe to an interactive table.\"\n",
              "              style=\"display:none;\">\n",
              "        \n",
              "  <svg xmlns=\"http://www.w3.org/2000/svg\" height=\"24px\"viewBox=\"0 0 24 24\"\n",
              "       width=\"24px\">\n",
              "    <path d=\"M0 0h24v24H0V0z\" fill=\"none\"/>\n",
              "    <path d=\"M18.56 5.44l.94 2.06.94-2.06 2.06-.94-2.06-.94-.94-2.06-.94 2.06-2.06.94zm-11 1L8.5 8.5l.94-2.06 2.06-.94-2.06-.94L8.5 2.5l-.94 2.06-2.06.94zm10 10l.94 2.06.94-2.06 2.06-.94-2.06-.94-.94-2.06-.94 2.06-2.06.94z\"/><path d=\"M17.41 7.96l-1.37-1.37c-.4-.4-.92-.59-1.43-.59-.52 0-1.04.2-1.43.59L10.3 9.45l-7.72 7.72c-.78.78-.78 2.05 0 2.83L4 21.41c.39.39.9.59 1.41.59.51 0 1.02-.2 1.41-.59l7.78-7.78 2.81-2.81c.8-.78.8-2.07 0-2.86zM5.41 20L4 18.59l7.72-7.72 1.47 1.35L5.41 20z\"/>\n",
              "  </svg>\n",
              "      </button>\n",
              "      \n",
              "  <style>\n",
              "    .colab-df-container {\n",
              "      display:flex;\n",
              "      flex-wrap:wrap;\n",
              "      gap: 12px;\n",
              "    }\n",
              "\n",
              "    .colab-df-convert {\n",
              "      background-color: #E8F0FE;\n",
              "      border: none;\n",
              "      border-radius: 50%;\n",
              "      cursor: pointer;\n",
              "      display: none;\n",
              "      fill: #1967D2;\n",
              "      height: 32px;\n",
              "      padding: 0 0 0 0;\n",
              "      width: 32px;\n",
              "    }\n",
              "\n",
              "    .colab-df-convert:hover {\n",
              "      background-color: #E2EBFA;\n",
              "      box-shadow: 0px 1px 2px rgba(60, 64, 67, 0.3), 0px 1px 3px 1px rgba(60, 64, 67, 0.15);\n",
              "      fill: #174EA6;\n",
              "    }\n",
              "\n",
              "    [theme=dark] .colab-df-convert {\n",
              "      background-color: #3B4455;\n",
              "      fill: #D2E3FC;\n",
              "    }\n",
              "\n",
              "    [theme=dark] .colab-df-convert:hover {\n",
              "      background-color: #434B5C;\n",
              "      box-shadow: 0px 1px 3px 1px rgba(0, 0, 0, 0.15);\n",
              "      filter: drop-shadow(0px 1px 2px rgba(0, 0, 0, 0.3));\n",
              "      fill: #FFFFFF;\n",
              "    }\n",
              "  </style>\n",
              "\n",
              "      <script>\n",
              "        const buttonEl =\n",
              "          document.querySelector('#df-b971bac6-5b6f-4e70-a60a-35ca5b059496 button.colab-df-convert');\n",
              "        buttonEl.style.display =\n",
              "          google.colab.kernel.accessAllowed ? 'block' : 'none';\n",
              "\n",
              "        async function convertToInteractive(key) {\n",
              "          const element = document.querySelector('#df-b971bac6-5b6f-4e70-a60a-35ca5b059496');\n",
              "          const dataTable =\n",
              "            await google.colab.kernel.invokeFunction('convertToInteractive',\n",
              "                                                     [key], {});\n",
              "          if (!dataTable) return;\n",
              "\n",
              "          const docLinkHtml = 'Like what you see? Visit the ' +\n",
              "            '<a target=\"_blank\" href=https://colab.research.google.com/notebooks/data_table.ipynb>data table notebook</a>'\n",
              "            + ' to learn more about interactive tables.';\n",
              "          element.innerHTML = '';\n",
              "          dataTable['output_type'] = 'display_data';\n",
              "          await google.colab.output.renderOutput(dataTable, element);\n",
              "          const docLink = document.createElement('div');\n",
              "          docLink.innerHTML = docLinkHtml;\n",
              "          element.appendChild(docLink);\n",
              "        }\n",
              "      </script>\n",
              "    </div>\n",
              "  </div>\n",
              "  "
            ]
          },
          "metadata": {},
          "execution_count": 25
        }
      ]
    },
    {
      "cell_type": "markdown",
      "source": [
        "By encoding every value it makes it easier for me to build a model because I don't have to tediously go through and make sure that each datatype matches each other and will mesh well when building my model"
      ],
      "metadata": {
        "id": "kC216JUkqIjn"
      }
    },
    {
      "cell_type": "code",
      "source": [
        "#Now time to define our variables\n",
        "x_var = data_encoded[['device', 'is_gift','is_corporate_user', 'gmv','top_level_category']]\n",
        "y_var = data_encoded['total_gmv']"
      ],
      "metadata": {
        "id": "Ja38sH5iftDb"
      },
      "execution_count": 26,
      "outputs": []
    },
    {
      "cell_type": "code",
      "source": [
        "from sklearn.linear_model import LinearRegression\n",
        "from sklearn.model_selection import train_test_split\n",
        "\n",
        "X_train, X_test, y_train, y_test = train_test_split(x_var, y_var, test_size = 0.3, random_state = 42) #as monty python says 42 is the answer to life\n",
        "\n",
        "lr = LinearRegression()\n",
        "lr.fit(X_train, y_train)\n",
        "\n",
        "gmv_predict = lr.predict(X_test)"
      ],
      "metadata": {
        "id": "_u8jKy3Ugpxs"
      },
      "execution_count": 33,
      "outputs": []
    },
    {
      "cell_type": "code",
      "source": [
        "#time to calculate out some things to see how this model is predicting\n",
        "from sklearn.metrics import r2_score\n",
        "\n",
        "R_squared = lr.score(X_test, y_test)\n",
        "print('My R-squared Value is: ', R_squared)"
      ],
      "metadata": {
        "colab": {
          "base_uri": "https://localhost:8080/"
        },
        "id": "ZkrCUMHHjwUO",
        "outputId": "50eefdd3-c067-4047-f0ae-034215db8b81"
      },
      "execution_count": 42,
      "outputs": [
        {
          "output_type": "stream",
          "name": "stdout",
          "text": [
            "My R-squared Value is:  0.10430102589502876\n"
          ]
        }
      ]
    },
    {
      "cell_type": "code",
      "source": [
        "#now lets look at the mean squared error as well\n",
        "from sklearn.metrics import mean_squared_error\n",
        "'''\n",
        "y_true = y_train\n",
        "y_pred = gmv_predict\n",
        "print('My mean squared error was: ', mean_squared_error(y_true, y_pred))\n",
        "\n",
        "'''"
      ],
      "metadata": {
        "colab": {
          "base_uri": "https://localhost:8080/",
          "height": 37
        },
        "id": "oZBheBqZty6r",
        "outputId": "248aec9b-688f-4c94-9e0b-fcd19c39fa87"
      },
      "execution_count": 45,
      "outputs": [
        {
          "output_type": "execute_result",
          "data": {
            "text/plain": [
              "\"\\ny_true = y_train\\ny_pred = gmv_predict\\nprint('My mean squared error was: ', mean_squared_error(y_true, y_pred))\\n\\n\""
            ],
            "application/vnd.google.colaboratory.intrinsic+json": {
              "type": "string"
            }
          },
          "metadata": {},
          "execution_count": 45
        }
      ]
    },
    {
      "cell_type": "code",
      "source": [
        "#time to plot out my model\n",
        "'''\n",
        "sns.distplot(gmv_predict, hist=False, color='r', label = 'Predicted Values')\n",
        "sns.displot(y_test, hist=False, color = 'b', label ='Actual Values')\n",
        "plt.title('Actual versus Predicted Values', fontsize = 16)\n",
        "plt.xlabel('Values', fontsize = 12)\n",
        "plt.ylabel('Frequency', fontsize = 12)\n",
        "plt.legend(loc = 'upper left', fontsize = 13)\n",
        "\n",
        "plt.show()\n",
        "'''"
      ],
      "metadata": {
        "colab": {
          "base_uri": "https://localhost:8080/",
          "height": 74
        },
        "id": "SlwWHlExr_bA",
        "outputId": "c247f241-3554-4a6e-aaf5-b53b77c78832"
      },
      "execution_count": 40,
      "outputs": [
        {
          "output_type": "execute_result",
          "data": {
            "text/plain": [
              "\"\\nsns.distplot(gmv_predict, hist=False, color='r', label = 'Predicted Values')\\nsns.displot(y_test, hist=False, color = 'b', label ='Actual Values')\\nplt.title('Actual versus Predicted Values', fontsize = 16)\\nplt.xlabel('Values', fontsize = 12)\\nplt.ylabel('Frequency', fontsize = 12)\\nplt.legend(loc = 'upper left', fontsize = 13)\\n\\nplt.show()\\n\""
            ],
            "application/vnd.google.colaboratory.intrinsic+json": {
              "type": "string"
            }
          },
          "metadata": {},
          "execution_count": 40
        }
      ]
    }
  ]
}